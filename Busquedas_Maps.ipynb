{
  "nbformat": 4,
  "nbformat_minor": 0,
  "metadata": {
    "colab": {
      "provenance": [],
      "authorship_tag": "ABX9TyMRSMzDoKNWLIojbW7oThBe",
      "include_colab_link": true
    },
    "kernelspec": {
      "name": "python3",
      "display_name": "Python 3"
    },
    "language_info": {
      "name": "python"
    }
  },
  "cells": [
    {
      "cell_type": "markdown",
      "metadata": {
        "id": "view-in-github",
        "colab_type": "text"
      },
      "source": [
        "<a href=\"https://colab.research.google.com/github/Napster2417a/Maps-ProblemaViajante/blob/main/Busquedas_Maps.ipynb\" target=\"_parent\"><img src=\"https://colab.research.google.com/assets/colab-badge.svg\" alt=\"Open In Colab\"/></a>"
      ]
    },
    {
      "cell_type": "code",
      "source": [
        "!pip install googlemaps haversine"
      ],
      "metadata": {
        "colab": {
          "base_uri": "https://localhost:8080/"
        },
        "id": "wqvOSNxC4lXw",
        "outputId": "f333d5c5-5995-40b4-f73f-dba5218e9fac"
      },
      "execution_count": null,
      "outputs": [
        {
          "output_type": "stream",
          "name": "stdout",
          "text": [
            "Looking in indexes: https://pypi.org/simple, https://us-python.pkg.dev/colab-wheels/public/simple/\n",
            "Requirement already satisfied: googlemaps in /usr/local/lib/python3.9/dist-packages (4.10.0)\n",
            "Requirement already satisfied: haversine in /usr/local/lib/python3.9/dist-packages (2.8.0)\n",
            "Requirement already satisfied: requests<3.0,>=2.20.0 in /usr/local/lib/python3.9/dist-packages (from googlemaps) (2.27.1)\n",
            "Requirement already satisfied: certifi>=2017.4.17 in /usr/local/lib/python3.9/dist-packages (from requests<3.0,>=2.20.0->googlemaps) (2022.12.7)\n",
            "Requirement already satisfied: charset-normalizer~=2.0.0 in /usr/local/lib/python3.9/dist-packages (from requests<3.0,>=2.20.0->googlemaps) (2.0.12)\n",
            "Requirement already satisfied: idna<4,>=2.5 in /usr/local/lib/python3.9/dist-packages (from requests<3.0,>=2.20.0->googlemaps) (3.4)\n",
            "Requirement already satisfied: urllib3<1.27,>=1.21.1 in /usr/local/lib/python3.9/dist-packages (from requests<3.0,>=2.20.0->googlemaps) (1.26.15)\n"
          ]
        }
      ]
    },
    {
      "cell_type": "code",
      "source": [
        "!pip install ortools"
      ],
      "metadata": {
        "colab": {
          "base_uri": "https://localhost:8080/"
        },
        "id": "djPVhukV8kSs",
        "outputId": "a3762bb5-b01a-4991-87e4-df94e5770612"
      },
      "execution_count": null,
      "outputs": [
        {
          "output_type": "stream",
          "name": "stdout",
          "text": [
            "Looking in indexes: https://pypi.org/simple, https://us-python.pkg.dev/colab-wheels/public/simple/\n",
            "Collecting ortools\n",
            "  Downloading ortools-9.6.2534-cp39-cp39-manylinux_2_17_x86_64.manylinux2014_x86_64.whl (16.4 MB)\n",
            "\u001b[2K     \u001b[90m━━━━━━━━━━━━━━━━━━━━━━━━━━━━━━━━━━━━━━━━\u001b[0m \u001b[32m16.4/16.4 MB\u001b[0m \u001b[31m30.3 MB/s\u001b[0m eta \u001b[36m0:00:00\u001b[0m\n",
            "\u001b[?25hRequirement already satisfied: scipy>=1.10.0 in /usr/local/lib/python3.9/dist-packages (from ortools) (1.10.1)\n",
            "Requirement already satisfied: absl-py>=0.13 in /usr/local/lib/python3.9/dist-packages (from ortools) (1.4.0)\n",
            "Collecting protobuf>=4.21.12\n",
            "  Downloading protobuf-4.22.3-cp37-abi3-manylinux2014_x86_64.whl (302 kB)\n",
            "\u001b[2K     \u001b[90m━━━━━━━━━━━━━━━━━━━━━━━━━━━━━━━━━━━━━━\u001b[0m \u001b[32m302.4/302.4 kB\u001b[0m \u001b[31m18.8 MB/s\u001b[0m eta \u001b[36m0:00:00\u001b[0m\n",
            "\u001b[?25hRequirement already satisfied: numpy>=1.13.3 in /usr/local/lib/python3.9/dist-packages (from ortools) (1.22.4)\n",
            "Installing collected packages: protobuf, ortools\n",
            "  Attempting uninstall: protobuf\n",
            "    Found existing installation: protobuf 3.20.3\n",
            "    Uninstalling protobuf-3.20.3:\n",
            "      Successfully uninstalled protobuf-3.20.3\n",
            "Successfully installed ortools-9.6.2534 protobuf-4.22.3\n"
          ]
        }
      ]
    },
    {
      "cell_type": "code",
      "source": [
        "!pip install tabulate\n"
      ],
      "metadata": {
        "colab": {
          "base_uri": "https://localhost:8080/"
        },
        "id": "5ImIP5usG7JB",
        "outputId": "fe28021b-98c0-488b-cbdd-6e3d27fba0b0"
      },
      "execution_count": null,
      "outputs": [
        {
          "output_type": "stream",
          "name": "stdout",
          "text": [
            "Looking in indexes: https://pypi.org/simple, https://us-python.pkg.dev/colab-wheels/public/simple/\n",
            "Requirement already satisfied: tabulate in /usr/local/lib/python3.9/dist-packages (0.8.10)\n"
          ]
        }
      ]
    },
    {
      "cell_type": "code",
      "source": [
        "import googlemaps\n",
        "from haversine import haversine\n",
        "\n",
        "from ortools.constraint_solver import routing_enums_pb2\n",
        "from ortools.constraint_solver import pywrapcp\n",
        "\n",
        "\n",
        "API_KEY = 'Tu API'\n",
        "gmaps = googlemaps.Client(key=API_KEY)\n",
        "\n",
        "moncloa_address = 'Moncloa, Madrid'\n",
        "moncloa_location = gmaps.geocode(moncloa_address)[0]['geometry']['location']\n",
        "moncloa_coordinates = (moncloa_location['lat'], moncloa_location['lng'])\n",
        "\n",
        "madrid_center_address = 'Puerta del Sol, Madrid'\n",
        "madrid_center_location = gmaps.geocode(madrid_center_address)[0]['geometry']['location']\n",
        "madrid_radius = 20000  # 20 km\n",
        "\n",
        "def get_workshops_nearby(center_location, radius):\n",
        "    places_result = gmaps.places_nearby(location=center_location, radius=radius, type='car_repair')\n",
        "    workshops = []\n",
        "\n",
        "    for place in places_result['results']:\n",
        "        name = place['name']\n",
        "        lat = place['geometry']['location']['lat']\n",
        "        lng = place['geometry']['location']['lng']\n",
        "        distance = haversine(moncloa_coordinates, (lat, lng))\n",
        "        place_id = place['place_id']\n",
        "\n",
        "        workshops.append({\n",
        "            'name': name,\n",
        "            'location': (lat, lng),\n",
        "            'distance': distance,\n",
        "            'place_id': place_id\n",
        "        })\n",
        "\n",
        "    return workshops\n",
        "\n",
        "def filter_car_workshops(workshops):\n",
        "    keywords = ['moto', 'motocicleta', 'motorcycle', 'bike']\n",
        "    car_workshops = []\n",
        "\n",
        "    for workshop in workshops:\n",
        "        place_details = gmaps.place(workshop['place_id'])\n",
        "        exclude = False\n",
        "\n",
        "        for keyword in keywords:\n",
        "            if keyword.lower() in place_details['result']['name'].lower() or (place_details['result'].get('formatted_address') and keyword.lower() in place_details['result']['formatted_address'].lower()) or (place_details['result'].get('vicinity') and keyword.lower() in place_details['result']['vicinity'].lower()):\n",
        "                exclude = True\n",
        "                break\n",
        "\n",
        "        if not exclude:\n",
        "            car_workshops.append(workshop)\n",
        "\n",
        "    return car_workshops\n",
        "\n",
        "\n",
        "def create_distance_matrix(workshops):\n",
        "    matrix = []\n",
        "    for origin in workshops:\n",
        "        row = []\n",
        "        for destination in workshops:\n",
        "            distance = haversine(origin['location'], destination['location'])\n",
        "            row.append(distance)\n",
        "        matrix.append(row)\n",
        "    return matrix\n",
        "\n",
        "def tsp_solution(workshops):\n",
        "    distance_matrix = create_distance_matrix(workshops)\n",
        "\n",
        "    manager = pywrapcp.RoutingIndexManager(len(distance_matrix), 1, 0)\n",
        "    routing = pywrapcp.RoutingModel(manager)\n",
        "\n",
        "    def distance_callback(from_index, to_index):\n",
        "        from_node = manager.IndexToNode(from_index)\n",
        "        to_node = manager.IndexToNode(to_index)\n",
        "        return distance_matrix[from_node][to_node]\n",
        "\n",
        "    transit_callback_index = routing.RegisterTransitCallback(distance_callback)\n",
        "    routing.SetArcCostEvaluatorOfAllVehicles(transit_callback_index)\n",
        "\n",
        "    search_parameters = pywrapcp.DefaultRoutingSearchParameters()\n",
        "    search_parameters.first_solution_strategy = (routing_enums_pb2.FirstSolutionStrategy.PATH_CHEAPEST_ARC)\n",
        "\n",
        "    solution = routing.SolveWithParameters(search_parameters)\n",
        "    return solution, manager, routing\n",
        "\n",
        "def print_solution(solution, manager, routing, workshops):\n",
        "    vehicle_index = 0\n",
        "    index = manager.GetStartIndex(vehicle_index)\n",
        "    route = []\n",
        "    while not routing.IsEnd(index):\n",
        "        node_index = manager.IndexToNode(index)\n",
        "        route.append(node_index)\n",
        "        index = solution.Value(routing.NextVar(index))\n",
        "    route.append(manager.IndexToNode(index))\n",
        "\n",
        "    total_distance = solution.ObjectiveValue()\n",
        "\n",
        "    print(f\"Recorrido total: {total_distance} km\")\n",
        "    for i, index in enumerate(route):\n",
        "        workshop = workshops[index]\n",
        "        lat, lng = workshop['location']\n",
        "        address = gmaps.reverse_geocode((lat, lng))[0]['formatted_address']\n",
        "        print(f\"{i+1}. {workshop['name']} - {address} - {workshop['distance']} km\")\n",
        "\n",
        "\n",
        "workshops = get_workshops_nearby(madrid_center_location, madrid_radius)\n",
        "car_workshops = filter_car_workshops(workshops)\n",
        "sorted_workshops = sorted(car_workshops, key=lambda x: x['distance'])\n",
        "\n",
        "\n",
        "\n",
        "workshops.insert(0, {\n",
        "    'name': 'Moncloa',\n",
        "    'location': moncloa_coordinates,\n",
        "    'distance': 0\n",
        "})\n",
        "\n",
        "solution, manager, routing = tsp_solution(sorted_workshops)\n",
        "print_solution(solution, manager, routing, sorted_workshops)\n",
        "\n"
      ],
      "metadata": {
        "colab": {
          "base_uri": "https://localhost:8080/"
        },
        "id": "sfsoqxSS8T2v",
        "outputId": "ae727fb9-612e-431f-91cf-11e582ab15eb"
      },
      "execution_count": null,
      "outputs": [
        {
          "output_type": "stream",
          "name": "stdout",
          "text": [
            "Recorrido total: 1 km\n",
            "1. STS Auto. Protección del automóvil - C. de Arriaza, 11, 28008 Madrid, Spain - 3.8704394378318963 km\n",
            "2. B y S Técnicas Manutención Mecánica, S.L. - Cuesta de Sto. Domingo, 20, 28013 Madrid, Spain - 4.535658801492175 km\n",
            "3. Repuestos Garcia - Prta del Sol, 10, 28013 Madrid, Spain - 4.994814425152899 km\n",
            "4. Vespa Roma - C. de Piamonte, 2, 28004 Madrid, Spain - 5.258069987452674 km\n",
            "5. Euromaster Madrid Chamberi - Calle de Covarrubias, 26, 28010 Madrid, Spain - 4.906573988189931 km\n",
            "6. Rscross - C. de Valverde, 35, 28004 Madrid, Spain - 4.867625847271145 km\n",
            "7. Auto Res - C. de la Salud, 19, 28013 Madrid, Spain - 4.933899865281315 km\n",
            "8. Recuperaciones Cifuentes - C. de Colmenares, 3, 28004 Madrid, Spain - 5.347542775133569 km\n",
            "9. Garaje Esperanza - Pje. Doré, 60, 28012 Madrid, Spain - 5.716313566900629 km\n",
            "10. Manuel Peral Tejero - Rda. de Valencia, 4, 28012 Madrid, Spain - 6.036538657902187 km\n",
            "11. Emilio Pos Electromechanics - C. de Cdad. Real, 20, 28045 Madrid, Spain - 6.762622442069054 km\n",
            "12. Jarmauto - C. de Vara de Rey, 8, 28045 Madrid, Spain - 7.0068897615150245 km\n",
            "13. D.R.Craysa S.L - C. de Canarias, 8, 28045 Madrid, Spain - 6.509089945483657 km\n",
            "14. El Patín de Oro SL - P.º de los Pontones, 17, 28005 Madrid, Spain - 5.249768060044066 km\n",
            "15. SANEAMIENTOS E INSTALACIONES ALAMEDA SL - C. de la Cebada, 5, 28005 Madrid, Spain - 5.062480889725965 km\n",
            "16. NEUMATICOS MAMPASO S.L - P.º de los Melancólicos, 7, 28005 Madrid, Spain - 4.644350180944764 km\n",
            "17. Autodisco - C. de Segovia, 59, 28005 Madrid, Spain - 4.3009809046991 km\n",
            "18. STS Auto. Protección del automóvil - C. de Arriaza, 11, 28008 Madrid, Spain - 3.8704394378318963 km\n"
          ]
        }
      ]
    },
    {
      "cell_type": "code",
      "source": [],
      "metadata": {
        "id": "Z6ezMYxb-DrL"
      },
      "execution_count": null,
      "outputs": []
    }
  ]
}